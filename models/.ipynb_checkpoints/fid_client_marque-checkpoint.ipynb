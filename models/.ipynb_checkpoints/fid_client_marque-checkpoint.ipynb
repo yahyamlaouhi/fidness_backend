{
 "cells": [
  {
   "cell_type": "code",
   "execution_count": 1,
   "id": "6880c9ad",
   "metadata": {},
   "outputs": [],
   "source": [
    "#Connect to mysql\n",
    "import pymysql\n",
    "import pandas as pd\n",
    "import numpy as np\n",
    "conn=pymysql.connect(host='localhost',port=int(3308),user='root',passwd='',db='fidness')"
   ]
  },
  {
   "cell_type": "code",
   "execution_count": 2,
   "id": "68e9e3f9",
   "metadata": {},
   "outputs": [
    {
     "data": {
      "text/html": [
       "<div>\n",
       "<style scoped>\n",
       "    .dataframe tbody tr th:only-of-type {\n",
       "        vertical-align: middle;\n",
       "    }\n",
       "\n",
       "    .dataframe tbody tr th {\n",
       "        vertical-align: top;\n",
       "    }\n",
       "\n",
       "    .dataframe thead th {\n",
       "        text-align: right;\n",
       "    }\n",
       "</style>\n",
       "<table border=\"1\" class=\"dataframe\">\n",
       "  <thead>\n",
       "    <tr style=\"text-align: right;\">\n",
       "      <th></th>\n",
       "      <th>id</th>\n",
       "      <th>id_client</th>\n",
       "      <th>id_marque</th>\n",
       "      <th>nom_produit</th>\n",
       "      <th>nbre_produit_achat</th>\n",
       "      <th>nbre_point_fid_achat</th>\n",
       "      <th>nbre_point_fid_actuel</th>\n",
       "      <th>nbre_point_fid_global</th>\n",
       "      <th>date_achat</th>\n",
       "    </tr>\n",
       "  </thead>\n",
       "  <tbody>\n",
       "    <tr>\n",
       "      <th>0</th>\n",
       "      <td>0</td>\n",
       "      <td>647</td>\n",
       "      <td>85</td>\n",
       "      <td>gAAAAABijrDiAx7</td>\n",
       "      <td>1</td>\n",
       "      <td>50</td>\n",
       "      <td>50</td>\n",
       "      <td>581</td>\n",
       "      <td>11/3/2020</td>\n",
       "    </tr>\n",
       "    <tr>\n",
       "      <th>1</th>\n",
       "      <td>1</td>\n",
       "      <td>10471</td>\n",
       "      <td>49</td>\n",
       "      <td>gAAAAABijrDiJKF</td>\n",
       "      <td>1</td>\n",
       "      <td>50</td>\n",
       "      <td>50</td>\n",
       "      <td>532</td>\n",
       "      <td>12/17/2021</td>\n",
       "    </tr>\n",
       "    <tr>\n",
       "      <th>2</th>\n",
       "      <td>2</td>\n",
       "      <td>20</td>\n",
       "      <td>63</td>\n",
       "      <td>gAAAAABijrDisiR</td>\n",
       "      <td>1</td>\n",
       "      <td>50</td>\n",
       "      <td>50</td>\n",
       "      <td>452</td>\n",
       "      <td>12/9/2021</td>\n",
       "    </tr>\n",
       "    <tr>\n",
       "      <th>3</th>\n",
       "      <td>3</td>\n",
       "      <td>16698</td>\n",
       "      <td>75</td>\n",
       "      <td>gAAAAABijrDi3FN</td>\n",
       "      <td>1</td>\n",
       "      <td>50</td>\n",
       "      <td>50</td>\n",
       "      <td>492</td>\n",
       "      <td>1/5/2022</td>\n",
       "    </tr>\n",
       "    <tr>\n",
       "      <th>4</th>\n",
       "      <td>4</td>\n",
       "      <td>12313</td>\n",
       "      <td>35</td>\n",
       "      <td>gAAAAABijrDiqnN</td>\n",
       "      <td>1</td>\n",
       "      <td>50</td>\n",
       "      <td>50</td>\n",
       "      <td>242</td>\n",
       "      <td>1/7/2020</td>\n",
       "    </tr>\n",
       "    <tr>\n",
       "      <th>...</th>\n",
       "      <td>...</td>\n",
       "      <td>...</td>\n",
       "      <td>...</td>\n",
       "      <td>...</td>\n",
       "      <td>...</td>\n",
       "      <td>...</td>\n",
       "      <td>...</td>\n",
       "      <td>...</td>\n",
       "      <td>...</td>\n",
       "    </tr>\n",
       "    <tr>\n",
       "      <th>95</th>\n",
       "      <td>95</td>\n",
       "      <td>17149</td>\n",
       "      <td>113</td>\n",
       "      <td>gAAAAABijrDjeDW</td>\n",
       "      <td>1</td>\n",
       "      <td>50</td>\n",
       "      <td>50</td>\n",
       "      <td>285</td>\n",
       "      <td>4/10/2022</td>\n",
       "    </tr>\n",
       "    <tr>\n",
       "      <th>96</th>\n",
       "      <td>96</td>\n",
       "      <td>2655</td>\n",
       "      <td>78</td>\n",
       "      <td>gAAAAABijrDjgft</td>\n",
       "      <td>1</td>\n",
       "      <td>50</td>\n",
       "      <td>50</td>\n",
       "      <td>235</td>\n",
       "      <td>1/30/2020</td>\n",
       "    </tr>\n",
       "    <tr>\n",
       "      <th>97</th>\n",
       "      <td>97</td>\n",
       "      <td>5820</td>\n",
       "      <td>95</td>\n",
       "      <td>gAAAAABijrDjOZH</td>\n",
       "      <td>1</td>\n",
       "      <td>50</td>\n",
       "      <td>50</td>\n",
       "      <td>388</td>\n",
       "      <td>12/3/2020</td>\n",
       "    </tr>\n",
       "    <tr>\n",
       "      <th>98</th>\n",
       "      <td>98</td>\n",
       "      <td>9544</td>\n",
       "      <td>60</td>\n",
       "      <td>gAAAAABijrDjDyJ</td>\n",
       "      <td>1</td>\n",
       "      <td>50</td>\n",
       "      <td>50</td>\n",
       "      <td>189</td>\n",
       "      <td>6/4/2020</td>\n",
       "    </tr>\n",
       "    <tr>\n",
       "      <th>99</th>\n",
       "      <td>99</td>\n",
       "      <td>7704</td>\n",
       "      <td>13</td>\n",
       "      <td>gAAAAABijrDjYHe</td>\n",
       "      <td>1</td>\n",
       "      <td>50</td>\n",
       "      <td>50</td>\n",
       "      <td>110</td>\n",
       "      <td>8/17/2020</td>\n",
       "    </tr>\n",
       "  </tbody>\n",
       "</table>\n",
       "<p>100 rows × 9 columns</p>\n",
       "</div>"
      ],
      "text/plain": [
       "    id  id_client  id_marque      nom_produit  nbre_produit_achat  \\\n",
       "0    0        647         85  gAAAAABijrDiAx7                   1   \n",
       "1    1      10471         49  gAAAAABijrDiJKF                   1   \n",
       "2    2         20         63  gAAAAABijrDisiR                   1   \n",
       "3    3      16698         75  gAAAAABijrDi3FN                   1   \n",
       "4    4      12313         35  gAAAAABijrDiqnN                   1   \n",
       "..  ..        ...        ...              ...                 ...   \n",
       "95  95      17149        113  gAAAAABijrDjeDW                   1   \n",
       "96  96       2655         78  gAAAAABijrDjgft                   1   \n",
       "97  97       5820         95  gAAAAABijrDjOZH                   1   \n",
       "98  98       9544         60  gAAAAABijrDjDyJ                   1   \n",
       "99  99       7704         13  gAAAAABijrDjYHe                   1   \n",
       "\n",
       "    nbre_point_fid_achat  nbre_point_fid_actuel  nbre_point_fid_global  \\\n",
       "0                     50                     50                    581   \n",
       "1                     50                     50                    532   \n",
       "2                     50                     50                    452   \n",
       "3                     50                     50                    492   \n",
       "4                     50                     50                    242   \n",
       "..                   ...                    ...                    ...   \n",
       "95                    50                     50                    285   \n",
       "96                    50                     50                    235   \n",
       "97                    50                     50                    388   \n",
       "98                    50                     50                    189   \n",
       "99                    50                     50                    110   \n",
       "\n",
       "    date_achat  \n",
       "0    11/3/2020  \n",
       "1   12/17/2021  \n",
       "2    12/9/2021  \n",
       "3     1/5/2022  \n",
       "4     1/7/2020  \n",
       "..         ...  \n",
       "95   4/10/2022  \n",
       "96   1/30/2020  \n",
       "97   12/3/2020  \n",
       "98    6/4/2020  \n",
       "99   8/17/2020  \n",
       "\n",
       "[100 rows x 9 columns]"
      ]
     },
     "execution_count": 2,
     "metadata": {},
     "output_type": "execute_result"
    }
   ],
   "source": [
    "#select user table\n",
    "df=pd.read_sql_query(\"SELECT * FROM fid_client_marque \",conn)\n",
    "df.head(100)"
   ]
  },
  {
   "cell_type": "code",
   "execution_count": 3,
   "id": "5bcbef90",
   "metadata": {},
   "outputs": [
    {
     "data": {
      "text/plain": [
       "id                          AxesSubplot(0.125,0.657941;0.227941x0.222059)\n",
       "id_client                AxesSubplot(0.398529,0.657941;0.227941x0.222059)\n",
       "id_marque                AxesSubplot(0.672059,0.657941;0.227941x0.222059)\n",
       "nbre_produit_achat          AxesSubplot(0.125,0.391471;0.227941x0.222059)\n",
       "nbre_point_fid_achat     AxesSubplot(0.398529,0.391471;0.227941x0.222059)\n",
       "nbre_point_fid_actuel    AxesSubplot(0.672059,0.391471;0.227941x0.222059)\n",
       "nbre_point_fid_global          AxesSubplot(0.125,0.125;0.227941x0.222059)\n",
       "dtype: object"
      ]
     },
     "execution_count": 3,
     "metadata": {},
     "output_type": "execute_result"
    },
    {
     "data": {
      "image/png": "[encoded data removed]",
      "text/plain": [
       "<Figure size 720x720 with 9 Axes>"
      ]
     },
     "metadata": {
      "needs_background": "light"
     },
     "output_type": "display_data"
    }
   ],
   "source": [
    "df.plot(kind=\"box\", subplots=True, layout=(3,3), figsize=(10,10))"
   ]
  },
  {
   "cell_type": "code",
   "execution_count": 5,
   "id": "82109300",
   "metadata": {},
   "outputs": [
    {
     "name": "stderr",
     "output_type": "stream",
     "text": [
      "C:\\Users\\khalil\\miniconda3\\envs\\fid\\lib\\site-packages\\seaborn\\distributions.py:2619: FutureWarning: `distplot` is a deprecated function and will be removed in a future version. Please adapt your code to use either `displot` (a figure-level function with similar flexibility) or `histplot` (an axes-level function for histograms).\n",
      "  warnings.warn(msg, FutureWarning)\n"
     ]
    },
    {
     "data": {
      "text/plain": [
       "<AxesSubplot:xlabel='nbre_point_fid_global', ylabel='Density'>"
      ]
     },
     "execution_count": 5,
     "metadata": {},
     "output_type": "execute_result"
    },
    {
     "data": {
      "image/png": "[encoded data removed]",
      "text/plain": [
       "<Figure size 432x288 with 1 Axes>"
      ]
     },
     "metadata": {
      "needs_background": "light"
     },
     "output_type": "display_data"
    }
   ],
   "source": [
    "import seaborn as sns\n",
    "sns.distplot(df['nbre_point_fid_global'])"
   ]
  },
  {
   "cell_type": "code",
   "execution_count": 6,
   "id": "e8086598",
   "metadata": {},
   "outputs": [
    {
     "name": "stderr",
     "output_type": "stream",
     "text": [
      "C:\\Users\\khalil\\miniconda3\\envs\\fid\\lib\\site-packages\\seaborn\\_decorators.py:36: FutureWarning: Pass the following variable as a keyword arg: x. From version 0.12, the only valid positional argument will be `data`, and passing other arguments without an explicit keyword will result in an error or misinterpretation.\n",
      "  warnings.warn(\n"
     ]
    },
    {
     "data": {
      "text/plain": [
       "<AxesSubplot:xlabel='nbre_point_fid_global'>"
      ]
     },
     "execution_count": 6,
     "metadata": {},
     "output_type": "execute_result"
    },
    {
     "data": {
      "image/png": "[encoded data removed]",
      "text/plain": [
       "<Figure size 432x288 with 1 Axes>"
      ]
     },
     "metadata": {
      "needs_background": "light"
     },
     "output_type": "display_data"
    }
   ],
   "source": [
    "sns.boxplot(df['nbre_point_fid_global'])"
   ]
  },
  {
   "cell_type": "code",
   "execution_count": 7,
   "id": "a949e693",
   "metadata": {},
   "outputs": [],
   "source": [
    "upper_limit = df['nbre_point_fid_global'].quantile(0.99)\n",
    "lower_limit = df['nbre_point_fid_global'].quantile(0.01)"
   ]
  },
  {
   "cell_type": "code",
   "execution_count": 20,
   "id": "a51fe1a7",
   "metadata": {},
   "outputs": [],
   "source": [
    "new_df = df[(df['nbre_point_fid_global'] <= 600) & (df['nbre_point_fid_global'] >= 200)]"
   ]
  },
  {
   "cell_type": "code",
   "execution_count": 21,
   "id": "867a4b0c",
   "metadata": {},
   "outputs": [
    {
     "name": "stderr",
     "output_type": "stream",
     "text": [
      "C:\\Users\\khalil\\miniconda3\\envs\\fid\\lib\\site-packages\\seaborn\\_decorators.py:36: FutureWarning: Pass the following variable as a keyword arg: x. From version 0.12, the only valid positional argument will be `data`, and passing other arguments without an explicit keyword will result in an error or misinterpretation.\n",
      "  warnings.warn(\n"
     ]
    },
    {
     "data": {
      "text/plain": [
       "<AxesSubplot:xlabel='nbre_point_fid_global'>"
      ]
     },
     "execution_count": 21,
     "metadata": {},
     "output_type": "execute_result"
    },
    {
     "data": {
      "image/png": "[encoded data removed]",
      "text/plain": [
       "<Figure size 432x288 with 1 Axes>"
      ]
     },
     "metadata": {
      "needs_background": "light"
     },
     "output_type": "display_data"
    }
   ],
   "source": [
    "sns.boxplot(new_df['nbre_point_fid_global'])"
   ]
  },
  {
   "cell_type": "code",
   "execution_count": 22,
   "id": "6c9a0ae1",
   "metadata": {},
   "outputs": [
    {
     "data": {
      "text/html": [
       "<div>\n",
       "<style scoped>\n",
       "    .dataframe tbody tr th:only-of-type {\n",
       "        vertical-align: middle;\n",
       "    }\n",
       "\n",
       "    .dataframe tbody tr th {\n",
       "        vertical-align: top;\n",
       "    }\n",
       "\n",
       "    .dataframe thead th {\n",
       "        text-align: right;\n",
       "    }\n",
       "</style>\n",
       "<table border=\"1\" class=\"dataframe\">\n",
       "  <thead>\n",
       "    <tr style=\"text-align: right;\">\n",
       "      <th></th>\n",
       "      <th>id</th>\n",
       "      <th>id_client</th>\n",
       "      <th>id_marque</th>\n",
       "      <th>nom_produit</th>\n",
       "      <th>nbre_produit_achat</th>\n",
       "      <th>nbre_point_fid_achat</th>\n",
       "      <th>nbre_point_fid_actuel</th>\n",
       "      <th>nbre_point_fid_global</th>\n",
       "      <th>date_achat</th>\n",
       "    </tr>\n",
       "  </thead>\n",
       "  <tbody>\n",
       "    <tr>\n",
       "      <th>0</th>\n",
       "      <td>0</td>\n",
       "      <td>647</td>\n",
       "      <td>85</td>\n",
       "      <td>gAAAAABijrDiAx7</td>\n",
       "      <td>1</td>\n",
       "      <td>50</td>\n",
       "      <td>50</td>\n",
       "      <td>581</td>\n",
       "      <td>11/3/2020</td>\n",
       "    </tr>\n",
       "    <tr>\n",
       "      <th>1</th>\n",
       "      <td>1</td>\n",
       "      <td>10471</td>\n",
       "      <td>49</td>\n",
       "      <td>gAAAAABijrDiJKF</td>\n",
       "      <td>1</td>\n",
       "      <td>50</td>\n",
       "      <td>50</td>\n",
       "      <td>532</td>\n",
       "      <td>12/17/2021</td>\n",
       "    </tr>\n",
       "    <tr>\n",
       "      <th>2</th>\n",
       "      <td>2</td>\n",
       "      <td>20</td>\n",
       "      <td>63</td>\n",
       "      <td>gAAAAABijrDisiR</td>\n",
       "      <td>1</td>\n",
       "      <td>50</td>\n",
       "      <td>50</td>\n",
       "      <td>452</td>\n",
       "      <td>12/9/2021</td>\n",
       "    </tr>\n",
       "    <tr>\n",
       "      <th>3</th>\n",
       "      <td>3</td>\n",
       "      <td>16698</td>\n",
       "      <td>75</td>\n",
       "      <td>gAAAAABijrDi3FN</td>\n",
       "      <td>1</td>\n",
       "      <td>50</td>\n",
       "      <td>50</td>\n",
       "      <td>492</td>\n",
       "      <td>1/5/2022</td>\n",
       "    </tr>\n",
       "    <tr>\n",
       "      <th>4</th>\n",
       "      <td>4</td>\n",
       "      <td>12313</td>\n",
       "      <td>35</td>\n",
       "      <td>gAAAAABijrDiqnN</td>\n",
       "      <td>1</td>\n",
       "      <td>50</td>\n",
       "      <td>50</td>\n",
       "      <td>242</td>\n",
       "      <td>1/7/2020</td>\n",
       "    </tr>\n",
       "    <tr>\n",
       "      <th>...</th>\n",
       "      <td>...</td>\n",
       "      <td>...</td>\n",
       "      <td>...</td>\n",
       "      <td>...</td>\n",
       "      <td>...</td>\n",
       "      <td>...</td>\n",
       "      <td>...</td>\n",
       "      <td>...</td>\n",
       "      <td>...</td>\n",
       "    </tr>\n",
       "    <tr>\n",
       "      <th>5995</th>\n",
       "      <td>5995</td>\n",
       "      <td>8369</td>\n",
       "      <td>100</td>\n",
       "      <td>gAAAAABijrDjMEo</td>\n",
       "      <td>5</td>\n",
       "      <td>250</td>\n",
       "      <td>250</td>\n",
       "      <td>336</td>\n",
       "      <td>8/16/2021</td>\n",
       "    </tr>\n",
       "    <tr>\n",
       "      <th>5996</th>\n",
       "      <td>5996</td>\n",
       "      <td>8554</td>\n",
       "      <td>27</td>\n",
       "      <td>gAAAAABijrDjPUA</td>\n",
       "      <td>5</td>\n",
       "      <td>250</td>\n",
       "      <td>250</td>\n",
       "      <td>418</td>\n",
       "      <td>2/9/2022</td>\n",
       "    </tr>\n",
       "    <tr>\n",
       "      <th>5997</th>\n",
       "      <td>5997</td>\n",
       "      <td>10379</td>\n",
       "      <td>90</td>\n",
       "      <td>gAAAAABijrDja_s</td>\n",
       "      <td>5</td>\n",
       "      <td>250</td>\n",
       "      <td>250</td>\n",
       "      <td>425</td>\n",
       "      <td>4/27/2020</td>\n",
       "    </tr>\n",
       "    <tr>\n",
       "      <th>5998</th>\n",
       "      <td>5998</td>\n",
       "      <td>11989</td>\n",
       "      <td>57</td>\n",
       "      <td>gAAAAABijrDjdga</td>\n",
       "      <td>5</td>\n",
       "      <td>250</td>\n",
       "      <td>250</td>\n",
       "      <td>344</td>\n",
       "      <td>11/20/2020</td>\n",
       "    </tr>\n",
       "    <tr>\n",
       "      <th>5999</th>\n",
       "      <td>5999</td>\n",
       "      <td>11642</td>\n",
       "      <td>74</td>\n",
       "      <td>gAAAAABijrDjDq-</td>\n",
       "      <td>5</td>\n",
       "      <td>250</td>\n",
       "      <td>250</td>\n",
       "      <td>394</td>\n",
       "      <td>6/28/2021</td>\n",
       "    </tr>\n",
       "  </tbody>\n",
       "</table>\n",
       "<p>5616 rows × 9 columns</p>\n",
       "</div>"
      ],
      "text/plain": [
       "        id  id_client  id_marque      nom_produit  nbre_produit_achat  \\\n",
       "0        0        647         85  gAAAAABijrDiAx7                   1   \n",
       "1        1      10471         49  gAAAAABijrDiJKF                   1   \n",
       "2        2         20         63  gAAAAABijrDisiR                   1   \n",
       "3        3      16698         75  gAAAAABijrDi3FN                   1   \n",
       "4        4      12313         35  gAAAAABijrDiqnN                   1   \n",
       "...    ...        ...        ...              ...                 ...   \n",
       "5995  5995       8369        100  gAAAAABijrDjMEo                   5   \n",
       "5996  5996       8554         27  gAAAAABijrDjPUA                   5   \n",
       "5997  5997      10379         90  gAAAAABijrDja_s                   5   \n",
       "5998  5998      11989         57  gAAAAABijrDjdga                   5   \n",
       "5999  5999      11642         74  gAAAAABijrDjDq-                   5   \n",
       "\n",
       "      nbre_point_fid_achat  nbre_point_fid_actuel  nbre_point_fid_global  \\\n",
       "0                       50                     50                    581   \n",
       "1                       50                     50                    532   \n",
       "2                       50                     50                    452   \n",
       "3                       50                     50                    492   \n",
       "4                       50                     50                    242   \n",
       "...                    ...                    ...                    ...   \n",
       "5995                   250                    250                    336   \n",
       "5996                   250                    250                    418   \n",
       "5997                   250                    250                    425   \n",
       "5998                   250                    250                    344   \n",
       "5999                   250                    250                    394   \n",
       "\n",
       "      date_achat  \n",
       "0      11/3/2020  \n",
       "1     12/17/2021  \n",
       "2      12/9/2021  \n",
       "3       1/5/2022  \n",
       "4       1/7/2020  \n",
       "...          ...  \n",
       "5995   8/16/2021  \n",
       "5996    2/9/2022  \n",
       "5997   4/27/2020  \n",
       "5998  11/20/2020  \n",
       "5999   6/28/2021  \n",
       "\n",
       "[5616 rows x 9 columns]"
      ]
     },
     "execution_count": 22,
     "metadata": {},
     "output_type": "execute_result"
    }
   ],
   "source": [
    "df = new_df\n",
    "df"
   ]
  },
  {
   "cell_type": "code",
   "execution_count": 23,
   "id": "14bc8258",
   "metadata": {},
   "outputs": [],
   "source": [
    "#exportiiiing\n",
    "from sqlalchemy import create_engine\n",
    "engine = create_engine('mysql+pymysql://root:@localhost:3308/fid_db')\n",
    "df.to_sql(name='fid_client_marque',con=engine,if_exists='replace', index=False)"
   ]
  },
  {
   "cell_type": "code",
   "execution_count": null,
   "id": "c9da1fe2",
   "metadata": {},
   "outputs": [],
   "source": []
  }
 ],
 "metadata": {
  "kernelspec": {
   "display_name": "Python 3 (ipykernel)",
   "language": "python",
   "name": "python3"
  },
  "language_info": {
   "codemirror_mode": {
    "name": "ipython",
    "version": 3
   },
   "file_extension": ".py",
   "mimetype": "text/x-python",
   "name": "python",
   "nbconvert_exporter": "python",
   "pygments_lexer": "ipython3",
   "version": "3.9.7"
  }
 },
 "nbformat": 4,
 "nbformat_minor": 5
}
