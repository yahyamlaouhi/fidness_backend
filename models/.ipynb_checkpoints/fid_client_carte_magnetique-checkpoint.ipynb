{
 "cells": [
  {
   "cell_type": "code",
   "execution_count": 1,
   "id": "5ceb61af",
   "metadata": {},
   "outputs": [],
   "source": [
    "#Connect to mysql\n",
    "import pymysql\n",
    "import pandas as pd\n",
    "import numpy as np\n",
    "conn=pymysql.connect(host='localhost',port=int(3308),user='root',passwd='',db='fidness')"
   ]
  },
  {
   "cell_type": "code",
   "execution_count": 2,
   "id": "ff3150ac",
   "metadata": {},
   "outputs": [
    {
     "data": {
      "text/html": [
       "<div>\n",
       "<style scoped>\n",
       "    .dataframe tbody tr th:only-of-type {\n",
       "        vertical-align: middle;\n",
       "    }\n",
       "\n",
       "    .dataframe tbody tr th {\n",
       "        vertical-align: top;\n",
       "    }\n",
       "\n",
       "    .dataframe thead th {\n",
       "        text-align: right;\n",
       "    }\n",
       "</style>\n",
       "<table border=\"1\" class=\"dataframe\">\n",
       "  <thead>\n",
       "    <tr style=\"text-align: right;\">\n",
       "      <th></th>\n",
       "      <th>id</th>\n",
       "      <th>id_client</th>\n",
       "      <th>id_carte_magnetique</th>\n",
       "      <th>numero_carte</th>\n",
       "      <th>date_creation</th>\n",
       "    </tr>\n",
       "  </thead>\n",
       "  <tbody>\n",
       "    <tr>\n",
       "      <th>0</th>\n",
       "      <td>0</td>\n",
       "      <td>1</td>\n",
       "      <td>2</td>\n",
       "      <td>92515013</td>\n",
       "      <td>2021-07-06 13:47:47</td>\n",
       "    </tr>\n",
       "    <tr>\n",
       "      <th>1</th>\n",
       "      <td>1</td>\n",
       "      <td>1</td>\n",
       "      <td>4</td>\n",
       "      <td>30076632</td>\n",
       "      <td>2021-07-06 12:53:40</td>\n",
       "    </tr>\n",
       "    <tr>\n",
       "      <th>2</th>\n",
       "      <td>2</td>\n",
       "      <td>1</td>\n",
       "      <td>4</td>\n",
       "      <td>30076632</td>\n",
       "      <td>2021-07-06 13:17:10</td>\n",
       "    </tr>\n",
       "    <tr>\n",
       "      <th>3</th>\n",
       "      <td>3</td>\n",
       "      <td>1</td>\n",
       "      <td>4</td>\n",
       "      <td>30076632</td>\n",
       "      <td>2021-07-06 13:45:53</td>\n",
       "    </tr>\n",
       "    <tr>\n",
       "      <th>4</th>\n",
       "      <td>4</td>\n",
       "      <td>3</td>\n",
       "      <td>1</td>\n",
       "      <td>18136601</td>\n",
       "      <td>2021-07-06 13:25:56</td>\n",
       "    </tr>\n",
       "    <tr>\n",
       "      <th>...</th>\n",
       "      <td>...</td>\n",
       "      <td>...</td>\n",
       "      <td>...</td>\n",
       "      <td>...</td>\n",
       "      <td>...</td>\n",
       "    </tr>\n",
       "    <tr>\n",
       "      <th>95</th>\n",
       "      <td>95</td>\n",
       "      <td>347</td>\n",
       "      <td>8</td>\n",
       "      <td>47090789</td>\n",
       "      <td>2021-11-11 20:40:15</td>\n",
       "    </tr>\n",
       "    <tr>\n",
       "      <th>96</th>\n",
       "      <td>96</td>\n",
       "      <td>347</td>\n",
       "      <td>11</td>\n",
       "      <td>46119873</td>\n",
       "      <td>2021-11-11 20:38:26</td>\n",
       "    </tr>\n",
       "    <tr>\n",
       "      <th>97</th>\n",
       "      <td>97</td>\n",
       "      <td>347</td>\n",
       "      <td>25</td>\n",
       "      <td>31917304</td>\n",
       "      <td>2021-11-11 20:38:57</td>\n",
       "    </tr>\n",
       "    <tr>\n",
       "      <th>98</th>\n",
       "      <td>98</td>\n",
       "      <td>353</td>\n",
       "      <td>3</td>\n",
       "      <td>70558659</td>\n",
       "      <td>2021-11-29 15:48:00</td>\n",
       "    </tr>\n",
       "    <tr>\n",
       "      <th>99</th>\n",
       "      <td>99</td>\n",
       "      <td>353</td>\n",
       "      <td>5</td>\n",
       "      <td>34584536</td>\n",
       "      <td>2021-11-29 15:45:42</td>\n",
       "    </tr>\n",
       "  </tbody>\n",
       "</table>\n",
       "<p>100 rows × 5 columns</p>\n",
       "</div>"
      ],
      "text/plain": [
       "    id  id_client  id_carte_magnetique  numero_carte        date_creation\n",
       "0    0          1                    2      92515013  2021-07-06 13:47:47\n",
       "1    1          1                    4      30076632  2021-07-06 12:53:40\n",
       "2    2          1                    4      30076632  2021-07-06 13:17:10\n",
       "3    3          1                    4      30076632  2021-07-06 13:45:53\n",
       "4    4          3                    1      18136601  2021-07-06 13:25:56\n",
       "..  ..        ...                  ...           ...                  ...\n",
       "95  95        347                    8      47090789  2021-11-11 20:40:15\n",
       "96  96        347                   11      46119873  2021-11-11 20:38:26\n",
       "97  97        347                   25      31917304  2021-11-11 20:38:57\n",
       "98  98        353                    3      70558659  2021-11-29 15:48:00\n",
       "99  99        353                    5      34584536  2021-11-29 15:45:42\n",
       "\n",
       "[100 rows x 5 columns]"
      ]
     },
     "execution_count": 2,
     "metadata": {},
     "output_type": "execute_result"
    }
   ],
   "source": [
    "#select user table\n",
    "df=pd.read_sql_query(\"SELECT * FROM fid_client_carte_magnetique \",conn)\n",
    "df.head(100)"
   ]
  },
  {
   "cell_type": "code",
   "execution_count": 4,
   "id": "e7d10f11",
   "metadata": {},
   "outputs": [
    {
     "data": {
      "text/plain": [
       "id                     0\n",
       "id_client              0\n",
       "id_carte_magnetique    0\n",
       "numero_carte           0\n",
       "date_creation          0\n",
       "dtype: int64"
      ]
     },
     "execution_count": 4,
     "metadata": {},
     "output_type": "execute_result"
    }
   ],
   "source": [
    "#verifiy null values\n",
    "df.isnull().sum()"
   ]
  },
  {
   "cell_type": "code",
   "execution_count": 6,
   "id": "1baec491",
   "metadata": {},
   "outputs": [],
   "source": [
    "#exportiiiing\n",
    "from sqlalchemy import create_engine\n",
    "engine = create_engine('mysql+pymysql://root:@localhost:3308/fid_db')\n",
    "df.to_sql(name='fid_client_carte_magnetique',con=engine,if_exists='replace')"
   ]
  },
  {
   "cell_type": "code",
   "execution_count": null,
   "id": "4e659321",
   "metadata": {},
   "outputs": [],
   "source": []
  }
 ],
 "metadata": {
  "kernelspec": {
   "display_name": "Python 3 (ipykernel)",
   "language": "python",
   "name": "python3"
  },
  "language_info": {
   "codemirror_mode": {
    "name": "ipython",
    "version": 3
   },
   "file_extension": ".py",
   "mimetype": "text/x-python",
   "name": "python",
   "nbconvert_exporter": "python",
   "pygments_lexer": "ipython3",
   "version": "3.9.7"
  }
 },
 "nbformat": 4,
 "nbformat_minor": 5
}
