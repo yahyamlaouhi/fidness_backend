{
 "cells": [
  {
   "cell_type": "code",
   "execution_count": 1,
   "id": "b8bc6a7f",
   "metadata": {},
   "outputs": [],
   "source": [
    "#Connect to mysql\n",
    "import pymysql\n",
    "import pandas as pd\n",
    "import numpy as np\n",
    "conn=pymysql.connect(host='localhost',port=int(3308),user='root',passwd='',db='fidness')"
   ]
  },
  {
   "cell_type": "code",
   "execution_count": 2,
   "id": "c763e2fc",
   "metadata": {},
   "outputs": [
    {
     "data": {
      "text/html": [
       "<div>\n",
       "<style scoped>\n",
       "    .dataframe tbody tr th:only-of-type {\n",
       "        vertical-align: middle;\n",
       "    }\n",
       "\n",
       "    .dataframe tbody tr th {\n",
       "        vertical-align: top;\n",
       "    }\n",
       "\n",
       "    .dataframe thead th {\n",
       "        text-align: right;\n",
       "    }\n",
       "</style>\n",
       "<table border=\"1\" class=\"dataframe\">\n",
       "  <thead>\n",
       "    <tr style=\"text-align: right;\">\n",
       "      <th></th>\n",
       "      <th>id_admin_creation</th>\n",
       "      <th>code</th>\n",
       "      <th>montant_achat (DT)</th>\n",
       "      <th>id_marque</th>\n",
       "      <th>date_debut</th>\n",
       "      <th>date_expiration</th>\n",
       "      <th>id</th>\n",
       "      <th>nom</th>\n",
       "      <th>date_creation</th>\n",
       "    </tr>\n",
       "  </thead>\n",
       "  <tbody>\n",
       "    <tr>\n",
       "      <th>0</th>\n",
       "      <td>1</td>\n",
       "      <td>hafsa</td>\n",
       "      <td>92</td>\n",
       "      <td>16</td>\n",
       "      <td>2021-08-30 00:00:01</td>\n",
       "      <td>2021-10-06 23:59:59</td>\n",
       "      <td>1</td>\n",
       "      <td>hafsa</td>\n",
       "      <td>2021-08-30 17:22:59</td>\n",
       "    </tr>\n",
       "    <tr>\n",
       "      <th>1</th>\n",
       "      <td>1</td>\n",
       "      <td>carte fidelite looh</td>\n",
       "      <td>54</td>\n",
       "      <td>29</td>\n",
       "      <td>2021-09-07 00:00:01</td>\n",
       "      <td>2021-10-30 23:59:59</td>\n",
       "      <td>2</td>\n",
       "      <td>carte fidelité looh</td>\n",
       "      <td>2021-09-07 11:02:00</td>\n",
       "    </tr>\n",
       "    <tr>\n",
       "      <th>2</th>\n",
       "      <td>1</td>\n",
       "      <td>carte de fidelite ms marion</td>\n",
       "      <td>91</td>\n",
       "      <td>33</td>\n",
       "      <td>2021-09-07 00:00:01</td>\n",
       "      <td>2021-09-30 23:59:59</td>\n",
       "      <td>3</td>\n",
       "      <td>carte de fidelité ms. marion</td>\n",
       "      <td>2021-09-07 20:31:48</td>\n",
       "    </tr>\n",
       "    <tr>\n",
       "      <th>3</th>\n",
       "      <td>1</td>\n",
       "      <td>carte de fidelite khalta</td>\n",
       "      <td>71</td>\n",
       "      <td>2</td>\n",
       "      <td>2021-09-08 00:00:01</td>\n",
       "      <td>2022-03-31 23:59:59</td>\n",
       "      <td>4</td>\n",
       "      <td>carte de fidelité  khalta</td>\n",
       "      <td>2021-09-08 16:33:48</td>\n",
       "    </tr>\n",
       "    <tr>\n",
       "      <th>4</th>\n",
       "      <td>1</td>\n",
       "      <td>mon bijou macaron</td>\n",
       "      <td>66</td>\n",
       "      <td>38</td>\n",
       "      <td>2021-09-08 00:00:01</td>\n",
       "      <td>2021-12-31 23:59:59</td>\n",
       "      <td>5</td>\n",
       "      <td>carte de fidelité mon bijou macaron</td>\n",
       "      <td>2021-09-08 21:36:55</td>\n",
       "    </tr>\n",
       "  </tbody>\n",
       "</table>\n",
       "</div>"
      ],
      "text/plain": [
       "   id_admin_creation                         code  montant_achat (DT)  \\\n",
       "0                  1                        hafsa                  92   \n",
       "1                  1          carte fidelite looh                  54   \n",
       "2                  1  carte de fidelite ms marion                  91   \n",
       "3                  1     carte de fidelite khalta                  71   \n",
       "4                  1            mon bijou macaron                  66   \n",
       "\n",
       "   id_marque          date_debut     date_expiration  id  \\\n",
       "0         16 2021-08-30 00:00:01 2021-10-06 23:59:59   1   \n",
       "1         29 2021-09-07 00:00:01 2021-10-30 23:59:59   2   \n",
       "2         33 2021-09-07 00:00:01 2021-09-30 23:59:59   3   \n",
       "3          2 2021-09-08 00:00:01 2022-03-31 23:59:59   4   \n",
       "4         38 2021-09-08 00:00:01 2021-12-31 23:59:59   5   \n",
       "\n",
       "                                   nom       date_creation  \n",
       "0                                hafsa 2021-08-30 17:22:59  \n",
       "1                  carte fidelité looh 2021-09-07 11:02:00  \n",
       "2         carte de fidelité ms. marion 2021-09-07 20:31:48  \n",
       "3            carte de fidelité  khalta 2021-09-08 16:33:48  \n",
       "4  carte de fidelité mon bijou macaron 2021-09-08 21:36:55  "
      ]
     },
     "execution_count": 2,
     "metadata": {},
     "output_type": "execute_result"
    }
   ],
   "source": [
    "#select user table\n",
    "df=pd.read_sql_query(\"SELECT * FROM fid_carte_fidelite \",conn)\n",
    "df.head()"
   ]
  },
  {
   "cell_type": "code",
   "execution_count": 3,
   "id": "a20b0e55",
   "metadata": {},
   "outputs": [
    {
     "data": {
      "text/plain": [
       "id_admin_creation        AxesSubplot(0.125,0.657941;0.227941x0.222059)\n",
       "montant_achat (DT)    AxesSubplot(0.398529,0.657941;0.227941x0.222059)\n",
       "id_marque             AxesSubplot(0.672059,0.657941;0.227941x0.222059)\n",
       "id                       AxesSubplot(0.125,0.391471;0.227941x0.222059)\n",
       "dtype: object"
      ]
     },
     "execution_count": 3,
     "metadata": {},
     "output_type": "execute_result"
    },
    {
     "data": {
      "image/png": "[encoded data removed]",
      "text/plain": [
       "<Figure size 720x720 with 9 Axes>"
      ]
     },
     "metadata": {
      "needs_background": "light"
     },
     "output_type": "display_data"
    }
   ],
   "source": [
    "df.plot(kind=\"box\", subplots=True, layout=(3,3), figsize=(10,10))"
   ]
  },
  {
   "cell_type": "code",
   "execution_count": 4,
   "id": "b247554e",
   "metadata": {},
   "outputs": [],
   "source": [
    "#exportiiiing\n",
    "from sqlalchemy import create_engine\n",
    "engine = create_engine('mysql+pymysql://root:@localhost:3308/fid_db')\n",
    "df.to_sql(name='fid_carte_fidelite',con=engine,if_exists='replace')"
   ]
  },
  {
   "cell_type": "code",
   "execution_count": null,
   "id": "98508613",
   "metadata": {},
   "outputs": [],
   "source": []
  }
 ],
 "metadata": {
  "kernelspec": {
   "display_name": "Python 3 (ipykernel)",
   "language": "python",
   "name": "python3"
  },
  "language_info": {
   "codemirror_mode": {
    "name": "ipython",
    "version": 3
   },
   "file_extension": ".py",
   "mimetype": "text/x-python",
   "name": "python",
   "nbconvert_exporter": "python",
   "pygments_lexer": "ipython3",
   "version": "3.9.7"
  }
 },
 "nbformat": 4,
 "nbformat_minor": 5
}
